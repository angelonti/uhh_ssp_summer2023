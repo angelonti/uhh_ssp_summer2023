{
 "cells": [
  {
   "cell_type": "code",
   "execution_count": 16,
   "id": "671009d4-23c8-4463-8b8e-7c0d451de11c",
   "metadata": {},
   "outputs": [],
   "source": [
    "import numpy as np\n",
    "import soundfile as sf\n",
    "import matplotlib.pyplot as plt\n",
    "import sounddevice as sd\n",
    "\n",
    "frame_length = 32\n",
    "frame_shift = 16"
   ]
  },
  {
   "cell_type": "code",
   "execution_count": 17,
   "id": "154c77bf-b4f6-4e07-892b-aa0bad3b362d",
   "metadata": {},
   "outputs": [],
   "source": [
    "babble = sf.read('resources/SpeechBabble.wav')\n",
    "white = sf.read('resources/SpeechWhite.wav')"
   ]
  },
  {
   "cell_type": "code",
   "execution_count": 26,
   "id": "d2df7427-fd22-4830-ae67-13cd8f51573b",
   "metadata": {},
   "outputs": [],
   "source": [
    "babble = sf.read(\"resources/SpeechBabble.wav\")\n",
    "babble_data = babble[0]\n",
    "sampling_rate_babble = babble[1]"
   ]
  },
  {
   "cell_type": "code",
   "execution_count": 28,
   "id": "1b36041b-2f51-4f84-911f-6d1b5294aa33",
   "metadata": {},
   "outputs": [],
   "source": [
    "white = sf.read(\"resources/SpeechBabble.wav\")\n",
    "white_data = white[0]\n",
    "sampling_rate_white = white[1]"
   ]
  },
  {
   "cell_type": "code",
   "execution_count": 19,
   "id": "93d62100-d6bc-44b2-acd2-55c0b01c032e",
   "metadata": {},
   "outputs": [
    {
     "data": {
      "text/plain": [
       "(69466,)"
      ]
     },
     "execution_count": 19,
     "metadata": {},
     "output_type": "execute_result"
    }
   ],
   "source": [
    "babble[0].shape"
   ]
  },
  {
   "cell_type": "code",
   "execution_count": 31,
   "id": "c92574cc-b1bf-4b8b-9f22-271c57ecce37",
   "metadata": {},
   "outputs": [
    {
     "data": {
      "text/plain": [
       "(69466,)"
      ]
     },
     "execution_count": 31,
     "metadata": {},
     "output_type": "execute_result"
    }
   ],
   "source": [
    "white[0].shape"
   ]
  },
  {
   "cell_type": "code",
   "execution_count": 27,
   "id": "3c717187-4dde-49ed-a26e-d63ed6f89066",
   "metadata": {},
   "outputs": [],
   "source": [
    "sd.play(babble_data,sampling_rate_babble)"
   ]
  },
  {
   "cell_type": "code",
   "execution_count": 32,
   "id": "cc736c9f-ee84-4269-a422-62c92dce9a82",
   "metadata": {},
   "outputs": [],
   "source": [
    "sd.play(white_data,sampling_rate_white)"
   ]
  }
 ],
 "metadata": {
  "kernelspec": {
   "display_name": "Python 3 (ipykernel)",
   "language": "python",
   "name": "python3"
  },
  "language_info": {
   "codemirror_mode": {
    "name": "ipython",
    "version": 3
   },
   "file_extension": ".py",
   "mimetype": "text/x-python",
   "name": "python",
   "nbconvert_exporter": "python",
   "pygments_lexer": "ipython3",
   "version": "3.9.13"
  }
 },
 "nbformat": 4,
 "nbformat_minor": 5
}
