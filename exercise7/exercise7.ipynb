{
 "cells": [
  {
   "cell_type": "code",
   "execution_count": 13,
   "metadata": {
    "collapsed": true,
    "ExecuteTime": {
     "end_time": "2023-07-04T13:56:06.310728800Z",
     "start_time": "2023-07-04T13:56:06.296763300Z"
    }
   },
   "outputs": [],
   "source": [
    "import soundfile as sf\n",
    "import numpy as np\n",
    "\n",
    "noisy_sensor_tuple = sf.read('resources/noisySensor.wav')"
   ]
  },
  {
   "cell_type": "code",
   "execution_count": 14,
   "outputs": [],
   "source": [
    "sampling_rate = noisy_sensor_tuple[1]"
   ],
   "metadata": {
    "collapsed": false,
    "ExecuteTime": {
     "end_time": "2023-07-04T13:56:07.919772900Z",
     "start_time": "2023-07-04T13:56:07.903815200Z"
    }
   }
  },
  {
   "cell_type": "code",
   "execution_count": 15,
   "outputs": [
    {
     "data": {
      "text/plain": "array([[ 0.00793457,  0.03259277, -0.00076294,  0.0027771 ],\n       [ 0.00717163, -0.01785278,  0.00039673,  0.0300293 ],\n       [ 0.00408936, -0.00509644, -0.00576782, -0.00244141],\n       ...,\n       [-0.01037598,  0.00057983, -0.02798462, -0.01687622],\n       [ 0.00997925, -0.00830078,  0.00979614, -0.02633667],\n       [-0.02468872, -0.01419067,  0.00164795, -0.00024414]])"
     },
     "execution_count": 15,
     "metadata": {},
     "output_type": "execute_result"
    }
   ],
   "source": [
    "noisy_sensor_data = noisy_sensor_tuple[0]\n",
    "noisy_sensor_data"
   ],
   "metadata": {
    "collapsed": false,
    "ExecuteTime": {
     "end_time": "2023-07-04T13:56:09.518525200Z",
     "start_time": "2023-07-04T13:56:09.482621700Z"
    }
   }
  },
  {
   "cell_type": "code",
   "execution_count": 63,
   "outputs": [
    {
     "data": {
      "text/plain": "(109466, 4)"
     },
     "execution_count": 63,
     "metadata": {},
     "output_type": "execute_result"
    }
   ],
   "source": [
    "noisy_sensor_data.shape"
   ],
   "metadata": {
    "collapsed": false,
    "ExecuteTime": {
     "end_time": "2023-07-04T14:58:05.177652600Z",
     "start_time": "2023-07-04T14:58:05.166682900Z"
    }
   }
  },
  {
   "cell_type": "code",
   "execution_count": 7,
   "outputs": [],
   "source": [
    "frame_length = 128\n",
    "frame_shift = 32\n",
    "frame_length_samples = frame_length * sampling_rate / 1000"
   ],
   "metadata": {
    "collapsed": false,
    "ExecuteTime": {
     "end_time": "2023-07-04T13:54:54.828328400Z",
     "start_time": "2023-07-04T13:54:54.739565700Z"
    }
   }
  },
  {
   "cell_type": "code",
   "execution_count": 8,
   "outputs": [],
   "source": [
    "def my_windowing(v_signal: np.ndarray, sampling_rate: int, frame_length: int, frame_shift: int) -> [np.ndarray, np.ndarray]:\n",
    "    millis_per_sample = 1000 / sampling_rate\n",
    "    frame_length_num_points = frame_length / millis_per_sample\n",
    "    frame_shift_num_points = frame_shift / millis_per_sample\n",
    "    num_frames = int(np.floor((len(v_signal) - frame_length_num_points) / frame_shift_num_points) + 1)\n",
    "    m_frames = np.zeros((num_frames, int(frame_length_num_points)))\n",
    "    v_time_frame = np.zeros(num_frames)\n",
    "    for i in range(num_frames):\n",
    "        start = int(i * frame_shift_num_points)\n",
    "        end = int(i * frame_shift_num_points + frame_length_num_points)\n",
    "        m_frames[i] = v_signal[start:end]\n",
    "        v_time_frame[i] = (start + end)/(2*sampling_rate)\n",
    "    return [m_frames, v_time_frame]"
   ],
   "metadata": {
    "collapsed": false,
    "ExecuteTime": {
     "end_time": "2023-07-04T13:54:54.828328400Z",
     "start_time": "2023-07-04T13:54:54.758517500Z"
    }
   }
  },
  {
   "cell_type": "code",
   "execution_count": 9,
   "outputs": [],
   "source": [
    "def compute_freq_axis(m_stft: np.ndarray):\n",
    "    return np.linspace(0, sampling_rate//2, num=m_stft.shape[1])\n",
    "\n",
    "def remove_upper_half_spectrum(m_stft: np.ndarray) -> np.ndarray:\n",
    "    m_stft_new = m_stft[:, :(int(m_stft.shape[1]/2)+1)]\n",
    "    return m_stft_new"
   ],
   "metadata": {
    "collapsed": false,
    "ExecuteTime": {
     "end_time": "2023-07-04T13:54:54.829324600Z",
     "start_time": "2023-07-04T13:54:54.769485100Z"
    }
   }
  },
  {
   "cell_type": "code",
   "execution_count": 10,
   "outputs": [],
   "source": [
    "def compute_stft(v_signal: np.ndarray, fs: int, frame_length: int, frame_shift: int, v_analysis_window: np.ndarray) -> [np.ndarray, np.ndarray, np.ndarray]:\n",
    "    m_frames, v_time_frame = my_windowing(v_signal, fs, frame_length, frame_shift)\n",
    "    m_stft_full = np.zeros(m_frames.shape, dtype=np.complex128)\n",
    "    #v_analysis_window = v_analysis_window(m_frames.shape[1])\n",
    "    for i in range(m_frames.shape[0]):\n",
    "        m_stft_full[i] = np.fft.fft(m_frames[i]*v_analysis_window)\n",
    "    #v_freq = np.fft.rfftfreq(m_stft_full.shape[1], 1/fs)\n",
    "    m_stft = remove_upper_half_spectrum(m_stft_full)\n",
    "    v_freq = compute_freq_axis(m_stft)\n",
    "    return [m_stft, v_freq, v_time_frame]"
   ],
   "metadata": {
    "collapsed": false,
    "ExecuteTime": {
     "end_time": "2023-07-04T13:54:54.830322700Z",
     "start_time": "2023-07-04T13:54:54.789431300Z"
    }
   }
  },
  {
   "cell_type": "code",
   "execution_count": 35,
   "outputs": [],
   "source": [
    "from scipy.signal import get_window\n",
    "\n",
    "hann_window = get_window('hann', int(frame_length_samples), fftbins=True)\n",
    "root_hann = np.sqrt(hann_window)\n",
    "analysis_window = root_hann\n",
    "synthesis_window = root_hann*0.5"
   ],
   "metadata": {
    "collapsed": false,
    "ExecuteTime": {
     "end_time": "2023-07-04T14:12:22.987451700Z",
     "start_time": "2023-07-04T14:12:22.976476600Z"
    }
   }
  },
  {
   "cell_type": "code",
   "execution_count": 36,
   "outputs": [
    {
     "data": {
      "text/plain": "array([ 0.03259277, -0.01785278, -0.00509644, ...,  0.00057983,\n       -0.00830078, -0.01419067])"
     },
     "execution_count": 36,
     "metadata": {},
     "output_type": "execute_result"
    }
   ],
   "source": [
    "noisy_sensor_data[:, 1]"
   ],
   "metadata": {
    "collapsed": false,
    "ExecuteTime": {
     "end_time": "2023-07-04T14:12:26.128417500Z",
     "start_time": "2023-07-04T14:12:26.109466800Z"
    }
   }
  },
  {
   "cell_type": "code",
   "execution_count": 37,
   "outputs": [],
   "source": [
    "m_stft_all, v_freq_all, v_time_frame_all = list(), list(), list()\n",
    "\n",
    "for i in range(noisy_sensor_data.shape[1]):\n",
    "    m_stft, v_freq, v_time_frame = compute_stft(noisy_sensor_data[:, i], sampling_rate, frame_length, frame_shift, analysis_window)\n",
    "    m_stft_all.append(m_stft)\n",
    "    v_freq_all.append(v_freq)\n",
    "    v_time_frame_all.append(v_time_frame)\n",
    "\n",
    "m_stft_all = np.array(m_stft_all)\n",
    "v_freq_all = np.array(v_freq_all)\n",
    "v_time_frame_all = np.array(v_time_frame_all)"
   ],
   "metadata": {
    "collapsed": false,
    "ExecuteTime": {
     "end_time": "2023-07-04T14:12:29.441697Z",
     "start_time": "2023-07-04T14:12:29.375267300Z"
    }
   }
  },
  {
   "cell_type": "markdown",
   "source": [
    "2.2) The synthesis window is multiplied by one half to compensate for the overlap of the windows. The synthesis window is then applied to the STFT of the noisy signal to obtain the reconstructed signal."
   ],
   "metadata": {
    "collapsed": false
   }
  },
  {
   "cell_type": "code",
   "execution_count": 42,
   "outputs": [],
   "source": [
    "def compute_time_delay(d, i, theta):\n",
    "    c = 340\n",
    "    t = i*d*np.cos(theta) / c\n",
    "    return t"
   ],
   "metadata": {
    "collapsed": false,
    "ExecuteTime": {
     "end_time": "2023-07-04T14:24:07.839247900Z",
     "start_time": "2023-07-04T14:24:07.807321900Z"
    }
   }
  },
  {
   "cell_type": "code",
   "execution_count": 43,
   "outputs": [
    {
     "data": {
      "text/plain": "array([0.        , 0.00010399, 0.00020797, 0.00031196])"
     },
     "execution_count": 43,
     "metadata": {},
     "output_type": "execute_result"
    }
   ],
   "source": [
    "theta = np.pi/4\n",
    "d = 0.05\n",
    "ts = np.array([compute_time_delay(d, i, theta) for i in range(noisy_sensor_data.shape[1])])\n",
    "ts"
   ],
   "metadata": {
    "collapsed": false,
    "ExecuteTime": {
     "end_time": "2023-07-04T14:24:10.099131400Z",
     "start_time": "2023-07-04T14:24:10.066221900Z"
    }
   }
  },
  {
   "cell_type": "code",
   "execution_count": 45,
   "outputs": [
    {
     "data": {
      "text/plain": "1025"
     },
     "execution_count": 45,
     "metadata": {},
     "output_type": "execute_result"
    }
   ],
   "source": [
    "v_freq_all.shape[1]"
   ],
   "metadata": {
    "collapsed": false,
    "ExecuteTime": {
     "end_time": "2023-07-04T14:44:23.816051600Z",
     "start_time": "2023-07-04T14:44:23.791812600Z"
    }
   }
  },
  {
   "cell_type": "markdown",
   "source": [
    "It is the correct formula because there is a right angle can be projected between two sensors and then we can calculate the time difference using triangulation."
   ],
   "metadata": {
    "collapsed": false
   }
  },
  {
   "cell_type": "code",
   "execution_count": 48,
   "outputs": [],
   "source": [
    "def compute_steering_vector(sampling_rate, t):\n",
    "    N = v_freq_all.shape[1]\n",
    "    a = np.zeros((N, 4), dtype=np.complex128)\n",
    "    for k in range(N):\n",
    "        a[k][0] = 1\n",
    "        for i in range(1, 4):\n",
    "            a[k][i] = np.exp((-1j*2*np.pi*k*sampling_rate*t[i])/N)\n",
    "    return a"
   ],
   "metadata": {
    "collapsed": false,
    "ExecuteTime": {
     "end_time": "2023-07-04T14:50:29.327277200Z",
     "start_time": "2023-07-04T14:50:29.298355400Z"
    }
   }
  },
  {
   "cell_type": "code",
   "execution_count": 60,
   "outputs": [
    {
     "data": {
      "text/plain": "(1025, 4)"
     },
     "execution_count": 60,
     "metadata": {},
     "output_type": "execute_result"
    }
   ],
   "source": [
    "a = compute_steering_vector(sampling_rate, ts)\n",
    "a.shape"
   ],
   "metadata": {
    "collapsed": false,
    "ExecuteTime": {
     "end_time": "2023-07-04T14:55:28.282900200Z",
     "start_time": "2023-07-04T14:55:28.230302900Z"
    }
   }
  },
  {
   "cell_type": "code",
   "execution_count": 61,
   "outputs": [
    {
     "data": {
      "text/plain": "(4, 1025)"
     },
     "execution_count": 61,
     "metadata": {},
     "output_type": "execute_result"
    }
   ],
   "source": [
    "m = noisy_sensor_data.shape[1]\n",
    "ah = np.conjugate(a).T\n",
    "ah.shape"
   ],
   "metadata": {
    "collapsed": false,
    "ExecuteTime": {
     "end_time": "2023-07-04T14:56:43.486528500Z",
     "start_time": "2023-07-04T14:56:43.475556800Z"
    }
   }
  },
  {
   "cell_type": "code",
   "execution_count": 62,
   "outputs": [
    {
     "data": {
      "text/plain": "(4, 210, 1025)"
     },
     "execution_count": 62,
     "metadata": {},
     "output_type": "execute_result"
    }
   ],
   "source": [
    "m_stft_all.shape"
   ],
   "metadata": {
    "collapsed": false,
    "ExecuteTime": {
     "end_time": "2023-07-04T14:57:00.285958100Z",
     "start_time": "2023-07-04T14:57:00.242076400Z"
    }
   }
  },
  {
   "cell_type": "code",
   "execution_count": 73,
   "outputs": [
    {
     "data": {
      "text/plain": "(210, 4, 1025)"
     },
     "execution_count": 73,
     "metadata": {},
     "output_type": "execute_result"
    }
   ],
   "source": [
    "b = m_stft_all.reshape(210, 4, 1025)\n",
    "b.shape"
   ],
   "metadata": {
    "collapsed": false,
    "ExecuteTime": {
     "end_time": "2023-07-04T15:24:21.898743500Z",
     "start_time": "2023-07-04T15:24:21.880792100Z"
    }
   }
  },
  {
   "cell_type": "code",
   "execution_count": 72,
   "outputs": [
    {
     "data": {
      "text/plain": "(210, 1025)"
     },
     "execution_count": 72,
     "metadata": {},
     "output_type": "execute_result"
    }
   ],
   "source": [
    "s = np.zeros((b.shape[0], b.shape[2]), dtype=np.complex128)\n",
    "s.shape"
   ],
   "metadata": {
    "collapsed": false,
    "ExecuteTime": {
     "end_time": "2023-07-04T15:24:16.131268500Z",
     "start_time": "2023-07-04T15:24:16.069434400Z"
    }
   }
  },
  {
   "cell_type": "code",
   "execution_count": 77,
   "outputs": [
    {
     "data": {
      "text/plain": "(4, 1025)"
     },
     "execution_count": 77,
     "metadata": {},
     "output_type": "execute_result"
    }
   ],
   "source": [
    "b[0].shape"
   ],
   "metadata": {
    "collapsed": false,
    "ExecuteTime": {
     "end_time": "2023-07-04T15:27:32.820337Z",
     "start_time": "2023-07-04T15:27:32.809331900Z"
    }
   }
  },
  {
   "cell_type": "code",
   "execution_count": 84,
   "outputs": [
    {
     "ename": "ValueError",
     "evalue": "matmul: Input operand 1 has a mismatch in its core dimension 0, with gufunc signature (n?,k),(k,m?)->(n?,m?) (size 4 is different from 1025)",
     "output_type": "error",
     "traceback": [
      "\u001B[1;31m---------------------------------------------------------------------------\u001B[0m",
      "\u001B[1;31mValueError\u001B[0m                                Traceback (most recent call last)",
      "\u001B[1;32m~\\AppData\\Local\\Temp/ipykernel_8756/496037372.py\u001B[0m in \u001B[0;36m<module>\u001B[1;34m\u001B[0m\n\u001B[0;32m      1\u001B[0m \u001B[1;32mfor\u001B[0m \u001B[0mi\u001B[0m \u001B[1;32min\u001B[0m \u001B[0mrange\u001B[0m\u001B[1;33m(\u001B[0m\u001B[0mb\u001B[0m\u001B[1;33m.\u001B[0m\u001B[0mshape\u001B[0m\u001B[1;33m[\u001B[0m\u001B[1;36m0\u001B[0m\u001B[1;33m]\u001B[0m\u001B[1;33m)\u001B[0m\u001B[1;33m:\u001B[0m\u001B[1;33m\u001B[0m\u001B[1;33m\u001B[0m\u001B[0m\n\u001B[1;32m----> 2\u001B[1;33m     \u001B[0ms\u001B[0m\u001B[1;33m[\u001B[0m\u001B[0mi\u001B[0m\u001B[1;33m]\u001B[0m \u001B[1;33m=\u001B[0m \u001B[0mah\u001B[0m \u001B[1;33m@\u001B[0m \u001B[0mb\u001B[0m\u001B[1;33m[\u001B[0m\u001B[0mi\u001B[0m\u001B[1;33m]\u001B[0m\u001B[1;33m\u001B[0m\u001B[1;33m\u001B[0m\u001B[0m\n\u001B[0m\u001B[0;32m      3\u001B[0m \u001B[0ms\u001B[0m\u001B[1;33m.\u001B[0m\u001B[0mshape\u001B[0m\u001B[1;33m\u001B[0m\u001B[1;33m\u001B[0m\u001B[0m\n",
      "\u001B[1;31mValueError\u001B[0m: matmul: Input operand 1 has a mismatch in its core dimension 0, with gufunc signature (n?,k),(k,m?)->(n?,m?) (size 4 is different from 1025)"
     ]
    }
   ],
   "source": [
    "for i in range(b.shape[0]):\n",
    "    s[i] = ah @ b[i]\n",
    "s.shape"
   ],
   "metadata": {
    "collapsed": false,
    "ExecuteTime": {
     "end_time": "2023-07-04T15:34:40.707682700Z",
     "start_time": "2023-07-04T15:34:40.668171700Z"
    }
   }
  }
 ],
 "metadata": {
  "kernelspec": {
   "display_name": "Python 3",
   "language": "python",
   "name": "python3"
  },
  "language_info": {
   "codemirror_mode": {
    "name": "ipython",
    "version": 2
   },
   "file_extension": ".py",
   "mimetype": "text/x-python",
   "name": "python",
   "nbconvert_exporter": "python",
   "pygments_lexer": "ipython2",
   "version": "2.7.6"
  }
 },
 "nbformat": 4,
 "nbformat_minor": 0
}
